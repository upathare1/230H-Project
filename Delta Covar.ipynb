{
 "cells": [
  {
   "cell_type": "markdown",
   "metadata": {
    "toc": true
   },
   "source": [
    "<h1>Table of Contents<span class=\"tocSkip\"></span></h1>\n",
    "<div class=\"toc\"><ul class=\"toc-item\"><li><span><a href=\"#covar-calculations\" data-toc-modified-id=\"covar-calculations-1\"><span class=\"toc-item-num\">1&nbsp;&nbsp;</span>covar calculations</a></span></li></ul></div>"
   ]
  },
  {
   "cell_type": "code",
   "execution_count": 214,
   "metadata": {},
   "outputs": [],
   "source": [
    "import pandas as pd\n",
    "import numpy as np\n",
    "import matplotlib.pyplot as plt\n",
    "import datetime as dt\n",
    "from datetime import datetime\n",
    "import yfinance as yf\n",
    "from yahoofinancials import YahooFinancials\n",
    "import pandas_datareader.data as web\n",
    "from scipy import stats\n",
    "from statsmodels.regression.quantile_regression import QuantReg as qr\n",
    "import statsmodels.api as sma\n",
    "import pickle\n",
    "import warnings\n",
    "warnings.filterwarnings('ignore')"
   ]
  },
  {
   "cell_type": "code",
   "execution_count": 215,
   "metadata": {},
   "outputs": [
    {
     "data": {
      "text/html": [
       "<div>\n",
       "<style scoped>\n",
       "    .dataframe tbody tr th:only-of-type {\n",
       "        vertical-align: middle;\n",
       "    }\n",
       "\n",
       "    .dataframe tbody tr th {\n",
       "        vertical-align: top;\n",
       "    }\n",
       "\n",
       "    .dataframe thead th {\n",
       "        text-align: right;\n",
       "    }\n",
       "</style>\n",
       "<table border=\"1\" class=\"dataframe\">\n",
       "  <thead>\n",
       "    <tr style=\"text-align: right;\">\n",
       "      <th></th>\n",
       "      <th>Open</th>\n",
       "      <th>High</th>\n",
       "      <th>Low</th>\n",
       "      <th>Close</th>\n",
       "      <th>Adj Close</th>\n",
       "      <th>Volume</th>\n",
       "    </tr>\n",
       "    <tr>\n",
       "      <th>Date</th>\n",
       "      <th></th>\n",
       "      <th></th>\n",
       "      <th></th>\n",
       "      <th></th>\n",
       "      <th></th>\n",
       "      <th></th>\n",
       "    </tr>\n",
       "  </thead>\n",
       "  <tbody>\n",
       "    <tr>\n",
       "      <th>1927-12-30</th>\n",
       "      <td>17.660000</td>\n",
       "      <td>17.660000</td>\n",
       "      <td>17.660000</td>\n",
       "      <td>17.660000</td>\n",
       "      <td>17.660000</td>\n",
       "      <td>0</td>\n",
       "    </tr>\n",
       "    <tr>\n",
       "      <th>1928-01-03</th>\n",
       "      <td>17.760000</td>\n",
       "      <td>17.760000</td>\n",
       "      <td>17.760000</td>\n",
       "      <td>17.760000</td>\n",
       "      <td>17.760000</td>\n",
       "      <td>0</td>\n",
       "    </tr>\n",
       "    <tr>\n",
       "      <th>1928-01-04</th>\n",
       "      <td>17.719999</td>\n",
       "      <td>17.719999</td>\n",
       "      <td>17.719999</td>\n",
       "      <td>17.719999</td>\n",
       "      <td>17.719999</td>\n",
       "      <td>0</td>\n",
       "    </tr>\n",
       "    <tr>\n",
       "      <th>1928-01-05</th>\n",
       "      <td>17.549999</td>\n",
       "      <td>17.549999</td>\n",
       "      <td>17.549999</td>\n",
       "      <td>17.549999</td>\n",
       "      <td>17.549999</td>\n",
       "      <td>0</td>\n",
       "    </tr>\n",
       "    <tr>\n",
       "      <th>1928-01-06</th>\n",
       "      <td>17.660000</td>\n",
       "      <td>17.660000</td>\n",
       "      <td>17.660000</td>\n",
       "      <td>17.660000</td>\n",
       "      <td>17.660000</td>\n",
       "      <td>0</td>\n",
       "    </tr>\n",
       "  </tbody>\n",
       "</table>\n",
       "</div>"
      ],
      "text/plain": [
       "                 Open       High        Low      Close  Adj Close  Volume\n",
       "Date                                                                     \n",
       "1927-12-30  17.660000  17.660000  17.660000  17.660000  17.660000       0\n",
       "1928-01-03  17.760000  17.760000  17.760000  17.760000  17.760000       0\n",
       "1928-01-04  17.719999  17.719999  17.719999  17.719999  17.719999       0\n",
       "1928-01-05  17.549999  17.549999  17.549999  17.549999  17.549999       0\n",
       "1928-01-06  17.660000  17.660000  17.660000  17.660000  17.660000       0"
      ]
     },
     "execution_count": 215,
     "metadata": {},
     "output_type": "execute_result"
    }
   ],
   "source": [
    "system = yf.download('^GSPC', \n",
    "                      progress=False)\n",
    "system.head()"
   ]
  },
  {
   "cell_type": "code",
   "execution_count": 216,
   "metadata": {},
   "outputs": [
    {
     "data": {
      "text/plain": [
       "<matplotlib.axes._subplots.AxesSubplot at 0x25c42d7a908>"
      ]
     },
     "execution_count": 216,
     "metadata": {},
     "output_type": "execute_result"
    },
    {
     "data": {
      "image/png": "[encoded data removed]",
      "text/plain": [
       "<Figure size 432x288 with 1 Axes>"
      ]
     },
     "metadata": {
      "needs_background": "light"
     },
     "output_type": "display_data"
    }
   ],
   "source": [
    "system['Adj Close'].plot()"
   ]
  },
  {
   "cell_type": "code",
   "execution_count": 49,
   "metadata": {},
   "outputs": [],
   "source": [
    "snp_stocks = pd.read_csv('./Data/SPstocks_current.csv' )\n",
    "snp_stocks = list(snp_stocks[snp_stocks.columns[0]])"
   ]
  },
  {
   "cell_type": "code",
   "execution_count": 158,
   "metadata": {},
   "outputs": [],
   "source": [
    "def download_stock(stock):\n",
    "    \"\"\" try to query the iex for a stock, if failed note with print \"\"\"\n",
    "    try:\n",
    "        #print(stock)\n",
    "        stock_df = web.DataReader(stock,'yahoo',start=dt.date(1970,1,1))\n",
    "        stock_df['Name'] = stock\n",
    "        output_name = stock + '_data.csv'\n",
    "        #stock_df.to_csv(output_name)\n",
    "        return stock_df\n",
    "    except:\n",
    "        bad_names.append(stock)\n",
    "        print('bad: %s' % (stock))"
   ]
  },
  {
   "cell_type": "code",
   "execution_count": 159,
   "metadata": {},
   "outputs": [
    {
     "name": "stdout",
     "output_type": "stream",
     "text": [
      "bad: AGN\n",
      "bad: APC\n",
      "bad: BCR\n",
      "bad: BBT\n",
      "bad: BRK.B\n",
      "bad: BF.B\n",
      "bad: CBG\n",
      "bad: CBS\n",
      "bad: CELG\n",
      "bad: CTL\n",
      "bad: CHK\n",
      "bad: COH\n",
      "bad: DPS\n",
      "bad: ETFC\n",
      "bad: FTR\n",
      "bad: GGP\n",
      "bad: HRS\n",
      "bad: HCP\n",
      "bad: LLL\n",
      "bad: LUK\n",
      "bad: LVLT\n",
      "bad: LLTC\n",
      "bad: MJN\n",
      "bad: KORS\n",
      "bad: PCLN\n",
      "bad: RHT\n",
      "bad: RAI\n",
      "bad: SPLS\n",
      "bad: SYMC\n",
      "bad: TSO\n",
      "bad: TMK\n",
      "bad: TSS\n",
      "bad: UTX\n",
      "bad: VIAB\n",
      "bad: HCN\n",
      "bad: WFM\n",
      "bad: WYN\n",
      "bad: YHOO\n"
     ]
    }
   ],
   "source": [
    "bad_names = []\n",
    "stock_data = {}\n",
    "for sym in snp_stocks:\n",
    "    try:\n",
    "        stock_data[sym] = download_stock(sym)\n",
    "    except:\n",
    "        pass"
   ]
  },
  {
   "cell_type": "code",
   "execution_count": 210,
   "metadata": {},
   "outputs": [],
   "source": [
    "with open('./Data/stock_data','wb') as f:\n",
    "    pickle.dump(stock_data,f,pickle.HIGHEST_PROTOCOL)"
   ]
  },
  {
   "cell_type": "code",
   "execution_count": 164,
   "metadata": {},
   "outputs": [],
   "source": [
    "for sym in bad_names:\n",
    "    stock_data.pop(sym)"
   ]
  },
  {
   "cell_type": "code",
   "execution_count": 211,
   "metadata": {},
   "outputs": [],
   "source": [
    "with open('./Data/stock_data','rb') as f:\n",
    "    stock_data = pickle.load(f)"
   ]
  },
  {
   "cell_type": "code",
   "execution_count": 218,
   "metadata": {},
   "outputs": [
    {
     "data": {
      "text/html": [
       "<div>\n",
       "<style scoped>\n",
       "    .dataframe tbody tr th:only-of-type {\n",
       "        vertical-align: middle;\n",
       "    }\n",
       "\n",
       "    .dataframe tbody tr th {\n",
       "        vertical-align: top;\n",
       "    }\n",
       "\n",
       "    .dataframe thead th {\n",
       "        text-align: right;\n",
       "    }\n",
       "</style>\n",
       "<table border=\"1\" class=\"dataframe\">\n",
       "  <thead>\n",
       "    <tr style=\"text-align: right;\">\n",
       "      <th></th>\n",
       "      <th>Security</th>\n",
       "      <th>SEC filings</th>\n",
       "      <th>GICS Sector</th>\n",
       "      <th>GICS Sub Industry</th>\n",
       "      <th>Headquarters Location</th>\n",
       "      <th>Date first added</th>\n",
       "      <th>CIK</th>\n",
       "      <th>Founded</th>\n",
       "    </tr>\n",
       "    <tr>\n",
       "      <th>Symbol</th>\n",
       "      <th></th>\n",
       "      <th></th>\n",
       "      <th></th>\n",
       "      <th></th>\n",
       "      <th></th>\n",
       "      <th></th>\n",
       "      <th></th>\n",
       "      <th></th>\n",
       "    </tr>\n",
       "  </thead>\n",
       "  <tbody>\n",
       "    <tr>\n",
       "      <th>MMM</th>\n",
       "      <td>3M Company</td>\n",
       "      <td>reports</td>\n",
       "      <td>Industrials</td>\n",
       "      <td>Industrial Conglomerates</td>\n",
       "      <td>St. Paul, Minnesota</td>\n",
       "      <td>8/9/1976</td>\n",
       "      <td>66740.0</td>\n",
       "      <td>1902</td>\n",
       "    </tr>\n",
       "    <tr>\n",
       "      <th>ABT</th>\n",
       "      <td>Abbott Laboratories</td>\n",
       "      <td>reports</td>\n",
       "      <td>Health Care</td>\n",
       "      <td>Health Care Equipment</td>\n",
       "      <td>North Chicago, Illinois</td>\n",
       "      <td>3/31/1964</td>\n",
       "      <td>1800.0</td>\n",
       "      <td>1888</td>\n",
       "    </tr>\n",
       "    <tr>\n",
       "      <th>ABBV</th>\n",
       "      <td>AbbVie Inc.</td>\n",
       "      <td>reports</td>\n",
       "      <td>Health Care</td>\n",
       "      <td>Pharmaceuticals</td>\n",
       "      <td>North Chicago, Illinois</td>\n",
       "      <td>12/31/2012</td>\n",
       "      <td>1551152.0</td>\n",
       "      <td>2013 (1888)</td>\n",
       "    </tr>\n",
       "    <tr>\n",
       "      <th>ABMD</th>\n",
       "      <td>ABIOMED Inc</td>\n",
       "      <td>reports</td>\n",
       "      <td>Health Care</td>\n",
       "      <td>Health Care Equipment</td>\n",
       "      <td>Danvers, Massachusetts</td>\n",
       "      <td>5/31/2018</td>\n",
       "      <td>815094.0</td>\n",
       "      <td>1981</td>\n",
       "    </tr>\n",
       "    <tr>\n",
       "      <th>ACN</th>\n",
       "      <td>Accenture plc</td>\n",
       "      <td>reports</td>\n",
       "      <td>Information Technology</td>\n",
       "      <td>IT Consulting &amp; Other Services</td>\n",
       "      <td>Dublin, Ireland</td>\n",
       "      <td>7/6/2011</td>\n",
       "      <td>1467373.0</td>\n",
       "      <td>1989</td>\n",
       "    </tr>\n",
       "    <tr>\n",
       "      <th>...</th>\n",
       "      <td>...</td>\n",
       "      <td>...</td>\n",
       "      <td>...</td>\n",
       "      <td>...</td>\n",
       "      <td>...</td>\n",
       "      <td>...</td>\n",
       "      <td>...</td>\n",
       "      <td>...</td>\n",
       "    </tr>\n",
       "    <tr>\n",
       "      <th>YUM</th>\n",
       "      <td>Yum! Brands Inc</td>\n",
       "      <td>reports</td>\n",
       "      <td>Consumer Discretionary</td>\n",
       "      <td>Restaurants</td>\n",
       "      <td>Louisville, Kentucky</td>\n",
       "      <td>10/6/1997</td>\n",
       "      <td>1041061.0</td>\n",
       "      <td>1997</td>\n",
       "    </tr>\n",
       "    <tr>\n",
       "      <th>ZBRA</th>\n",
       "      <td>Zebra Technologies</td>\n",
       "      <td>reports</td>\n",
       "      <td>Information Technology</td>\n",
       "      <td>Electronic Equipment &amp; Instruments</td>\n",
       "      <td>Lincolnshire, Illinois</td>\n",
       "      <td>12/23/2019</td>\n",
       "      <td>877212.0</td>\n",
       "      <td>1969</td>\n",
       "    </tr>\n",
       "    <tr>\n",
       "      <th>ZBH</th>\n",
       "      <td>Zimmer Biomet Holdings</td>\n",
       "      <td>reports</td>\n",
       "      <td>Health Care</td>\n",
       "      <td>Health Care Equipment</td>\n",
       "      <td>Warsaw, Indiana</td>\n",
       "      <td>8/7/2001</td>\n",
       "      <td>1136869.0</td>\n",
       "      <td>1927</td>\n",
       "    </tr>\n",
       "    <tr>\n",
       "      <th>ZION</th>\n",
       "      <td>Zions Bancorp</td>\n",
       "      <td>reports</td>\n",
       "      <td>Financials</td>\n",
       "      <td>Regional Banks</td>\n",
       "      <td>Salt Lake City, Utah</td>\n",
       "      <td>6/22/2001</td>\n",
       "      <td>109380.0</td>\n",
       "      <td>1873</td>\n",
       "    </tr>\n",
       "    <tr>\n",
       "      <th>ZTS</th>\n",
       "      <td>Zoetis</td>\n",
       "      <td>reports</td>\n",
       "      <td>Health Care</td>\n",
       "      <td>Pharmaceuticals</td>\n",
       "      <td>Florham Park, New Jersey</td>\n",
       "      <td>6/21/2013</td>\n",
       "      <td>1555280.0</td>\n",
       "      <td>1952</td>\n",
       "    </tr>\n",
       "  </tbody>\n",
       "</table>\n",
       "<p>505 rows × 8 columns</p>\n",
       "</div>"
      ],
      "text/plain": [
       "                      Security SEC filings             GICS Sector  \\\n",
       "Symbol                                                               \n",
       "MMM                 3M Company     reports             Industrials   \n",
       "ABT        Abbott Laboratories     reports             Health Care   \n",
       "ABBV               AbbVie Inc.     reports             Health Care   \n",
       "ABMD               ABIOMED Inc     reports             Health Care   \n",
       "ACN              Accenture plc     reports  Information Technology   \n",
       "...                        ...         ...                     ...   \n",
       "YUM            Yum! Brands Inc     reports  Consumer Discretionary   \n",
       "ZBRA        Zebra Technologies     reports  Information Technology   \n",
       "ZBH     Zimmer Biomet Holdings     reports             Health Care   \n",
       "ZION             Zions Bancorp     reports              Financials   \n",
       "ZTS                     Zoetis     reports             Health Care   \n",
       "\n",
       "                         GICS Sub Industry     Headquarters Location  \\\n",
       "Symbol                                                                 \n",
       "MMM               Industrial Conglomerates       St. Paul, Minnesota   \n",
       "ABT                  Health Care Equipment   North Chicago, Illinois   \n",
       "ABBV                       Pharmaceuticals   North Chicago, Illinois   \n",
       "ABMD                 Health Care Equipment    Danvers, Massachusetts   \n",
       "ACN         IT Consulting & Other Services           Dublin, Ireland   \n",
       "...                                    ...                       ...   \n",
       "YUM                            Restaurants      Louisville, Kentucky   \n",
       "ZBRA    Electronic Equipment & Instruments    Lincolnshire, Illinois   \n",
       "ZBH                  Health Care Equipment           Warsaw, Indiana   \n",
       "ZION                        Regional Banks      Salt Lake City, Utah   \n",
       "ZTS                        Pharmaceuticals  Florham Park, New Jersey   \n",
       "\n",
       "       Date first added        CIK      Founded  \n",
       "Symbol                                           \n",
       "MMM            8/9/1976    66740.0         1902  \n",
       "ABT           3/31/1964     1800.0         1888  \n",
       "ABBV         12/31/2012  1551152.0  2013 (1888)  \n",
       "ABMD          5/31/2018   815094.0         1981  \n",
       "ACN            7/6/2011  1467373.0         1989  \n",
       "...                 ...        ...          ...  \n",
       "YUM           10/6/1997  1041061.0         1997  \n",
       "ZBRA         12/23/2019   877212.0         1969  \n",
       "ZBH            8/7/2001  1136869.0         1927  \n",
       "ZION          6/22/2001   109380.0         1873  \n",
       "ZTS           6/21/2013  1555280.0         1952  \n",
       "\n",
       "[505 rows x 8 columns]"
      ]
     },
     "execution_count": 218,
     "metadata": {},
     "output_type": "execute_result"
    }
   ],
   "source": [
    "sector = pd.read_csv('./Data/snp_tickers_sectors.csv',index_col = 0)\n",
    "sector"
   ]
  },
  {
   "cell_type": "markdown",
   "metadata": {},
   "source": [
    "# covar calculations"
   ]
  },
  {
   "cell_type": "code",
   "execution_count": 147,
   "metadata": {},
   "outputs": [],
   "source": [
    "def quantile_reg(system_losses,roll_var,q):\n",
    "    Y = system_losses.copy()\n",
    "    X = roll_var.copy()\n",
    "    common_index = X.dropna().index.intersection(Y.dropna().index)\n",
    "    X = X.loc[common_index]\n",
    "    Y = Y.loc[common_index]\n",
    "    model = qr(Y,sma.add_constant(X)).fit(q = 0.99)\n",
    "    return model\n",
    "    \n",
    "    \n",
    "    \n",
    "    \n",
    "\n",
    "def est_delta_covar(system_losses,stock_losses,q,roll_window,method='emp'):\n",
    "    if((method != 'emp')and(method!='norm')):\n",
    "        raise Exception('Wrong input for method')\n",
    "    \n",
    "    if(method == 'emp'):\n",
    "        roll_var = stock_losses.rolling(window = roll_window,min_periods = int(0.8*roll_window))\\\n",
    "                                    .apply(lambda x: np.quantile(x,q))\n",
    "        \n",
    "        roll_median = stock_losses.rolling(window = roll_window,min_periods = int(0.8*roll_window)).median()\n",
    "        \n",
    "    else:\n",
    "        roll_median = stock_losses.rolling(window = roll_window,min_periods = int(0.8*roll_window)).mean()\n",
    "        std = stock_losses.rolling(window = roll_window,min_periods = int(0.8*roll_window)).std()\n",
    "        \n",
    "        roll_var = roll_median + stats.norm.ppf(q) * std\n",
    "        \n",
    "    model_q = quantile_reg(system_losses,roll_var,q)\n",
    "    model_median = quantile_reg(system_losses,roll_median,q)\n",
    "        \n",
    "        #import pdb;pdb.set_trace()\n",
    "        \n",
    "    delta_covar = model_q.params['Adj Close'] * (model_q.fittedvalues - model_median.fittedvalues)\n",
    "\n",
    "        \n",
    "    return delta_covar,roll_var\n",
    "\n",
    "        \n"
   ]
  },
  {
   "cell_type": "code",
   "execution_count": 165,
   "metadata": {},
   "outputs": [],
   "source": [
    "stock_losses = {}\n",
    "for sym in stock_data.keys():\n",
    "        adj_close = stock_data[sym]['Adj Close'].resample('1W').last().dropna()\n",
    "        stock_losses[sym] = 100* (adj_close.shift(1) - adj_close)/adj_close.shift(1)"
   ]
  },
  {
   "cell_type": "code",
   "execution_count": 166,
   "metadata": {},
   "outputs": [],
   "source": [
    "system_close = system['Adj Close'].resample('1W').last().dropna()\n",
    "system_losses = 100* (system_close.shift(1) - system_close)/system_close.shift(1)"
   ]
  },
  {
   "cell_type": "code",
   "execution_count": 219,
   "metadata": {},
   "outputs": [
    {
     "name": "stdout",
     "output_type": "stream",
     "text": [
      "ABT\n",
      "ABBV\n",
      "ACN\n",
      "ATVI\n",
      "AYI\n",
      "ADBE\n",
      "AAP\n",
      "AES\n",
      "AET\n",
      "AMG\n",
      "AFL\n",
      "A\n",
      "APD\n",
      "AKAM\n",
      "ALK\n",
      "ALB\n",
      "ALXN\n",
      "ALLE\n",
      "ADS\n",
      "LNT\n",
      "ALL\n",
      "GOOGL\n",
      "GOOG\n",
      "MO\n",
      "AMZN\n",
      "AEE\n",
      "AAL\n",
      "AEP\n",
      "AXP\n",
      "AIG\n",
      "AMT\n",
      "AWK\n",
      "AMP\n",
      "ABC\n",
      "AME\n",
      "AMGN\n",
      "APH\n",
      "ADI\n",
      "ANTM\n",
      "AON\n",
      "APA\n",
      "AIV\n",
      "AAPL\n",
      "AMAT\n",
      "ADM\n",
      "ARNC\n",
      "AJG\n",
      "AIZ\n",
      "T\n",
      "ADSK\n",
      "ADP\n",
      "AN\n",
      "AZO\n",
      "AVB\n",
      "AVY\n",
      "BHI\n",
      "BLL\n",
      "BAC\n",
      "BAX\n",
      "BDX\n",
      "BBBY\n",
      "BBY\n",
      "BIIB\n",
      "BLK\n",
      "HRB\n",
      "BA\n",
      "BWA\n",
      "BXP\n",
      "BSX\n",
      "BMY\n",
      "AVGO\n",
      "CHRW\n",
      "CA\n",
      "COG\n",
      "CPB\n",
      "COF\n",
      "CAH\n",
      "KMX\n",
      "CCL\n",
      "CAT\n",
      "CBOE\n",
      "CNC\n",
      "CNP\n",
      "CERN\n",
      "CF\n",
      "SCHW\n",
      "CHTR\n",
      "CVX\n",
      "CMG\n",
      "CB\n",
      "CHD\n",
      "CI\n",
      "XEC\n",
      "CINF\n",
      "CTAS\n",
      "CSCO\n",
      "C\n",
      "CFG\n",
      "CTXS\n",
      "CME\n",
      "CMS\n",
      "KO\n",
      "CTSH\n",
      "CL\n",
      "CMCSA\n",
      "CMA\n",
      "CAG\n",
      "CXO\n",
      "COP\n",
      "ED\n",
      "STZ\n",
      "GLW\n",
      "COST\n",
      "COTY\n",
      "CCI\n",
      "CSRA\n",
      "CSX\n",
      "CMI\n",
      "CVS\n",
      "DHI\n",
      "DHR\n",
      "DRI\n",
      "DVA\n",
      "DE\n",
      "DLPH\n",
      "DAL\n",
      "XRAY\n",
      "DVN\n",
      "DLR\n",
      "DFS\n",
      "DISCA\n",
      "DISCK\n",
      "DG\n",
      "DLTR\n",
      "D\n",
      "DOV\n",
      "DOW\n",
      "DTE\n",
      "DD\n",
      "DUK\n",
      "DNB\n",
      "EMN\n",
      "ETN\n",
      "EBAY\n",
      "ECL\n",
      "EIX\n",
      "EW\n",
      "EA\n",
      "EMR\n",
      "ETR\n",
      "EVHC\n",
      "EOG\n",
      "EQT\n",
      "EFX\n",
      "EQIX\n",
      "EQR\n",
      "ESS\n",
      "EL\n",
      "ES\n",
      "EXC\n",
      "EXPE\n",
      "EXPD\n",
      "ESRX\n",
      "EXR\n",
      "XOM\n",
      "FFIV\n",
      "FB\n",
      "FAST\n",
      "FRT\n",
      "FDX\n",
      "FIS\n",
      "FITB\n",
      "FSLR\n",
      "FE\n",
      "FISV\n",
      "FLIR\n",
      "FLS\n",
      "FLR\n",
      "FMC\n",
      "FTI\n",
      "FL\n",
      "F\n",
      "FTV\n",
      "FBHS\n",
      "BEN\n",
      "FCX\n",
      "GPS\n",
      "GRMN\n",
      "GD\n",
      "GE\n",
      "GIS\n",
      "GM\n",
      "GPC\n",
      "GILD\n",
      "GPN\n",
      "GS\n",
      "GT\n",
      "GWW\n",
      "HAL\n",
      "HBI\n",
      "HOG\n",
      "HAR\n",
      "HIG\n",
      "HAS\n",
      "HCA\n",
      "HP\n",
      "HSIC\n",
      "HES\n",
      "HPE\n",
      "HOLX\n",
      "HD\n",
      "HON\n",
      "HRL\n",
      "HST\n",
      "HPQ\n",
      "HUM\n",
      "HBAN\n",
      "IDXX\n",
      "ITW\n",
      "ILMN\n",
      "INCY\n",
      "IR\n",
      "INTC\n",
      "ICE\n",
      "IBM\n",
      "IP\n",
      "IPG\n",
      "IFF\n",
      "INTU\n",
      "ISRG\n",
      "IVZ\n",
      "IRM\n",
      "JBHT\n",
      "JEC\n",
      "SJM\n",
      "JNJ\n",
      "JCI\n",
      "JPM\n",
      "JNPR\n",
      "KSU\n",
      "K\n",
      "KEY\n",
      "KMB\n",
      "KIM\n",
      "KMI\n",
      "KLAC\n",
      "KSS\n",
      "KHC\n",
      "KR\n",
      "LB\n",
      "LH\n",
      "LRCX\n",
      "LEG\n",
      "LEN\n",
      "LLY\n",
      "LNC\n",
      "LKQ\n",
      "LMT\n",
      "L\n",
      "LOW\n",
      "LYB\n",
      "MTB\n",
      "MAC\n",
      "M\n",
      "MNK\n",
      "MRO\n",
      "MPC\n",
      "MAR\n",
      "MMC\n",
      "MLM\n",
      "MAS\n",
      "MA\n",
      "MAT\n",
      "MKC\n",
      "MCD\n",
      "MCK\n",
      "MDT\n",
      "MRK\n",
      "MET\n",
      "MTD\n",
      "MCHP\n",
      "MU\n",
      "MSFT\n",
      "MAA\n",
      "MHK\n",
      "TAP\n",
      "MDLZ\n",
      "MON\n",
      "MNST\n",
      "MCO\n",
      "MS\n",
      "MSI\n",
      "MUR\n",
      "MYL\n",
      "NDAQ\n",
      "NOV\n",
      "NAVI\n",
      "NTAP\n",
      "NFLX\n",
      "NWL\n",
      "NFX\n",
      "NEM\n",
      "NWSA\n",
      "NWS\n",
      "NEE\n",
      "NLSN\n",
      "NKE\n",
      "NI\n",
      "NBL\n",
      "JWN\n",
      "NSC\n",
      "NTRS\n",
      "NOC\n",
      "NRG\n",
      "NUE\n",
      "NVDA\n",
      "ORLY\n",
      "OXY\n",
      "OMC\n",
      "OKE\n",
      "ORCL\n",
      "PCAR\n",
      "PH\n",
      "PDCO\n",
      "PAYX\n",
      "PYPL\n",
      "PNR\n",
      "PBCT\n",
      "PEP\n",
      "PKI\n",
      "PRGO\n",
      "PFE\n",
      "PCG\n",
      "PM\n",
      "PSX\n",
      "PNW\n",
      "PXD\n",
      "PNC\n",
      "RL\n",
      "PPG\n",
      "PPL\n",
      "PX\n",
      "PFG\n",
      "PG\n",
      "PGR\n",
      "PLD\n",
      "PRU\n",
      "PEG\n",
      "PSA\n",
      "PHM\n",
      "PVH\n",
      "QRVO\n",
      "QCOM\n",
      "PWR\n",
      "DGX\n",
      "RRC\n",
      "RTN\n",
      "O\n",
      "REG\n",
      "REGN\n",
      "RF\n",
      "RSG\n",
      "RHI\n",
      "ROK\n",
      "COL\n",
      "ROP\n",
      "ROST\n",
      "RCL\n",
      "R\n",
      "SPGI\n",
      "CRM\n",
      "SCG\n",
      "SLB\n",
      "SNI\n",
      "STX\n",
      "SEE\n",
      "SRE\n",
      "SHW\n",
      "SIG\n",
      "SPG\n",
      "SWKS\n",
      "SLG\n",
      "SNA\n",
      "SO\n",
      "LUV\n",
      "SWN\n",
      "SWK\n",
      "SBUX\n",
      "STT\n",
      "SRCL\n",
      "SYK\n",
      "STI\n",
      "SYF\n",
      "SYY\n",
      "TROW\n",
      "TGT\n",
      "TEL\n",
      "TGNA\n",
      "TDC\n",
      "TXN\n",
      "TXT\n",
      "BK\n",
      "CLX\n",
      "COO\n",
      "HSY\n",
      "MOS\n",
      "TRV\n",
      "DIS\n",
      "TMO\n",
      "TIF\n",
      "TWX\n",
      "TJX\n",
      "TSCO\n",
      "TDG\n",
      "RIG\n",
      "TRIP\n",
      "FOXA\n",
      "FOX\n",
      "TSN\n",
      "USB\n",
      "UDR\n",
      "ULTA\n",
      "UA\n",
      "UAA\n",
      "UNP\n",
      "UAL\n",
      "UNH\n",
      "UPS\n",
      "URI\n",
      "UHS\n",
      "UNM\n",
      "URBN\n",
      "VFC\n",
      "VLO\n",
      "VAR\n",
      "VTR\n",
      "VRSN\n",
      "VRSK\n",
      "VZ\n",
      "VRTX\n",
      "V\n",
      "VNO\n",
      "VMC\n",
      "WMT\n",
      "WBA\n",
      "WM\n",
      "WAT\n",
      "WEC\n",
      "WFC\n",
      "WDC\n",
      "WU\n",
      "WRK\n",
      "WY\n",
      "WHR\n",
      "WMB\n",
      "WLTW\n",
      "WYNN\n",
      "XEL\n",
      "XRX\n",
      "XLNX\n",
      "XL\n",
      "XYL\n",
      "YUM\n",
      "ZBH\n",
      "ZION\n",
      "ZTS\n"
     ]
    }
   ],
   "source": [
    "delta_covar_dict = {}\n",
    "roll_var_dict = {}\n",
    "shock_df = pd.DataFrame()\n",
    "normal_df = pd.DataFrame()\n",
    "roll_window = 52*3\n",
    "normal_date = dt.date(2015,12,13)\n",
    "q = 0.99\n",
    "\n",
    "for sym in stock_data.keys():\n",
    "    \n",
    "    try:\n",
    "        delta_covar_dict[sym],roll_var_dict[sym] = est_delta_covar(system_losses,stock_losses[sym],q,roll_window)\n",
    "        shock_df.loc[sym,'Delta Covar'] = delta_covar_dict[sym][-1]\n",
    "        shock_df.loc[sym,'VaR'] = roll_var_dict[sym][-1]\n",
    "        shock_df.loc[sym,'Sector'] = sector.loc[sym,'GICS Sector']\n",
    "\n",
    "        normal_df.loc[sym,'Delta Covar'] = delta_covar_dict[sym].loc[normal_date]\n",
    "        normal_df.loc[sym,'VaR'] = roll_var_dict[sym].loc[normal_date]\n",
    "        normal_df.loc[sym,'Sector'] = sector.loc[sym,'GICS Sector']\n",
    "    except:\n",
    "        print(sym)"
   ]
  },
  {
   "cell_type": "code",
   "execution_count": 185,
   "metadata": {},
   "outputs": [
    {
     "data": {
      "text/plain": [
       "<matplotlib.collections.PathCollection at 0x25c4140ccc8>"
      ]
     },
     "execution_count": 185,
     "metadata": {},
     "output_type": "execute_result"
    },
    {
     "data": {
      "image/png": "[encoded data removed]",
      "text/plain": [
       "<Figure size 432x288 with 1 Axes>"
      ]
     },
     "metadata": {
      "needs_background": "light"
     },
     "output_type": "display_data"
    }
   ],
   "source": [
    "plt.scatter(normal_df['VaR']*(13**0.5),normal_df['Delta Covar']*(13**0.5))"
   ]
  },
  {
   "cell_type": "code",
   "execution_count": 186,
   "metadata": {},
   "outputs": [
    {
     "data": {
      "text/plain": [
       "<matplotlib.collections.PathCollection at 0x25c2bd77dc8>"
      ]
     },
     "execution_count": 186,
     "metadata": {},
     "output_type": "execute_result"
    },
    {
     "data": {
      "image/png": "[encoded data removed]",
      "text/plain": [
       "<Figure size 432x288 with 1 Axes>"
      ]
     },
     "metadata": {
      "needs_background": "light"
     },
     "output_type": "display_data"
    }
   ],
   "source": [
    "plt.scatter(shock_df['VaR']*(13**0.5),shock_df['Delta Covar']*(13**0.5))"
   ]
  },
  {
   "cell_type": "code",
   "execution_count": 150,
   "metadata": {},
   "outputs": [
    {
     "data": {
      "text/plain": [
       "<matplotlib.axes._subplots.AxesSubplot at 0x25c3f12e508>"
      ]
     },
     "execution_count": 150,
     "metadata": {},
     "output_type": "execute_result"
    },
    {
     "data": {
      "image/png": "[encoded data removed]",
      "text/plain": [
       "<Figure size 432x288 with 1 Axes>"
      ]
     },
     "metadata": {
      "needs_background": "light"
     },
     "output_type": "display_data"
    }
   ],
   "source": [
    "delta_covar.plot()"
   ]
  },
  {
   "cell_type": "code",
   "execution_count": 151,
   "metadata": {},
   "outputs": [
    {
     "data": {
      "text/plain": [
       "<matplotlib.axes._subplots.AxesSubplot at 0x25c3fb96a88>"
      ]
     },
     "execution_count": 151,
     "metadata": {},
     "output_type": "execute_result"
    },
    {
     "data": {
      "image/png": "[encoded data removed]",
      "text/plain": [
       "<Figure size 432x288 with 1 Axes>"
      ]
     },
     "metadata": {
      "needs_background": "light"
     },
     "output_type": "display_data"
    }
   ],
   "source": [
    "roll_var.plot()"
   ]
  },
  {
   "cell_type": "code",
   "execution_count": 154,
   "metadata": {},
   "outputs": [
    {
     "data": {
      "text/plain": [
       "<matplotlib.axes._subplots.AxesSubplot at 0x25c403d5f88>"
      ]
     },
     "execution_count": 154,
     "metadata": {},
     "output_type": "execute_result"
    },
    {
     "data": {
      "image/png": "[encoded data removed]",
      "text/plain": [
       "<Figure size 432x288 with 1 Axes>"
      ]
     },
     "metadata": {
      "needs_background": "light"
     },
     "output_type": "display_data"
    }
   ],
   "source": [
    "delta_covar.plot()"
   ]
  },
  {
   "cell_type": "code",
   "execution_count": 155,
   "metadata": {},
   "outputs": [
    {
     "data": {
      "text/plain": [
       "<matplotlib.axes._subplots.AxesSubplot at 0x25c404cea08>"
      ]
     },
     "execution_count": 155,
     "metadata": {},
     "output_type": "execute_result"
    },
    {
     "data": {
      "image/png": "[encoded data removed]",
      "text/plain": [
       "<Figure size 432x288 with 1 Axes>"
      ]
     },
     "metadata": {
      "needs_background": "light"
     },
     "output_type": "display_data"
    }
   ],
   "source": [
    "roll_var.plot()"
   ]
  },
  {
   "cell_type": "code",
   "execution_count": 65,
   "metadata": {},
   "outputs": [],
   "source": [
    "k = stats.norm.ppf(0.99)\n",
    "roll_window = 3*52\n",
    "min_periods = 2*52\n",
    "sym = 'AXP'\n",
    "\n",
    "\n"
   ]
  },
  {
   "cell_type": "code",
   "execution_count": 66,
   "metadata": {},
   "outputs": [
    {
     "data": {
      "text/plain": [
       "<matplotlib.axes._subplots.AxesSubplot at 0x25c2d2d8748>"
      ]
     },
     "execution_count": 66,
     "metadata": {},
     "output_type": "execute_result"
    },
    {
     "data": {
      "image/png": "[encoded data removed]",
      "text/plain": [
       "<Figure size 432x288 with 1 Axes>"
      ]
     },
     "metadata": {
      "needs_background": "light"
     },
     "output_type": "display_data"
    }
   ],
   "source": [
    "adj_close = stock_data[sym]['Adj Close']\n",
    "adj_close = adj_close.resample('1W').last().dropna()\n",
    "stock_losses = (adj_close.shift(1) - adj_close)/adj_close.shift(1)\n",
    "mean = stock_losses.rolling(window = roll_window,min_periods = min_periods).mean()\n",
    "std = stock_losses.rolling(window = roll_window,min_periods = min_periods).std()\n",
    "roll_var = mean + k * std\n",
    "roll_var.plot()"
   ]
  },
  {
   "cell_type": "code",
   "execution_count": 68,
   "metadata": {},
   "outputs": [
    {
     "data": {
      "text/plain": [
       "<matplotlib.axes._subplots.AxesSubplot at 0x25c3a9b2648>"
      ]
     },
     "execution_count": 68,
     "metadata": {},
     "output_type": "execute_result"
    },
    {
     "data": {
      "image/png": "[encoded data removed]",
      "text/plain": [
       "<Figure size 432x288 with 1 Axes>"
      ]
     },
     "metadata": {
      "needs_background": "light"
     },
     "output_type": "display_data"
    }
   ],
   "source": [
    "system_close = system['Adj Close'].resample('1W').last().dropna()\n",
    "system_losses = 100* (system_close.shift(1) - system_close)/system_close.shift(1)\n",
    "mean = system_losses.rolling(window = roll_window,min_periods = min_periods).mean()\n",
    "std = system_losses.rolling(window = roll_window,min_periods = min_periods).std()\n",
    "system_roll_var = mean + k*std\n",
    "system_roll_var.plot()"
   ]
  },
  {
   "cell_type": "code",
   "execution_count": 103,
   "metadata": {},
   "outputs": [
    {
     "data": {
      "text/html": [
       "<table class=\"simpletable\">\n",
       "<caption>QuantReg Regression Results</caption>\n",
       "<tr>\n",
       "  <th>Dep. Variable:</th>     <td>Adj Close</td>    <th>  Pseudo R-squared:  </th> <td> 0.03612</td>\n",
       "</tr>\n",
       "<tr>\n",
       "  <th>Model:</th>             <td>QuantReg</td>     <th>  Bandwidth:         </th> <td>0.008993</td>\n",
       "</tr>\n",
       "<tr>\n",
       "  <th>Method:</th>          <td>Least Squares</td>  <th>  Sparsity:          </th> <td>   2.008</td>\n",
       "</tr>\n",
       "<tr>\n",
       "  <th>Date:</th>          <td>Sat, 10 Oct 2020</td> <th>  No. Observations:  </th>  <td>  2368</td> \n",
       "</tr>\n",
       "<tr>\n",
       "  <th>Time:</th>              <td>13:41:59</td>     <th>  Df Residuals:      </th>  <td>  2366</td> \n",
       "</tr>\n",
       "<tr>\n",
       "  <th> </th>                      <td> </td>        <th>  Df Model:          </th>  <td>     1</td> \n",
       "</tr>\n",
       "</table>\n",
       "<table class=\"simpletable\">\n",
       "<tr>\n",
       "      <td></td>         <th>coef</th>     <th>std err</th>      <th>t</th>      <th>P>|t|</th>  <th>[0.025</th>    <th>0.975]</th>  \n",
       "</tr>\n",
       "<tr>\n",
       "  <th>const</th>     <td>    0.0366</td> <td>    0.007</td> <td>    4.925</td> <td> 0.000</td> <td>    0.022</td> <td>    0.051</td>\n",
       "</tr>\n",
       "<tr>\n",
       "  <th>Adj Close</th> <td>    0.2795</td> <td>    0.062</td> <td>    4.513</td> <td> 0.000</td> <td>    0.158</td> <td>    0.401</td>\n",
       "</tr>\n",
       "</table>"
      ],
      "text/plain": [
       "<class 'statsmodels.iolib.summary.Summary'>\n",
       "\"\"\"\n",
       "                         QuantReg Regression Results                          \n",
       "==============================================================================\n",
       "Dep. Variable:              Adj Close   Pseudo R-squared:              0.03612\n",
       "Model:                       QuantReg   Bandwidth:                    0.008993\n",
       "Method:                 Least Squares   Sparsity:                        2.008\n",
       "Date:                Sat, 10 Oct 2020   No. Observations:                 2368\n",
       "Time:                        13:41:59   Df Residuals:                     2366\n",
       "                                        Df Model:                            1\n",
       "==============================================================================\n",
       "                 coef    std err          t      P>|t|      [0.025      0.975]\n",
       "------------------------------------------------------------------------------\n",
       "const          0.0366      0.007      4.925      0.000       0.022       0.051\n",
       "Adj Close      0.2795      0.062      4.513      0.000       0.158       0.401\n",
       "==============================================================================\n",
       "\"\"\""
      ]
     },
     "execution_count": 103,
     "metadata": {},
     "output_type": "execute_result"
    }
   ],
   "source": [
    "Y = system_losses.copy()\n",
    "X = roll_var2.copy()\n",
    "common_index = X.dropna().index.intersection(Y.dropna().index)\n",
    "X = X.loc[common_index]\n",
    "Y = Y.loc[common_index]\n",
    "\n",
    "model = qr(Y,sma.add_constant(X)).fit(q = 0.99)\n",
    "model.summary()"
   ]
  },
  {
   "cell_type": "code",
   "execution_count": 106,
   "metadata": {},
   "outputs": [
    {
     "data": {
      "text/plain": [
       "0.05807383827446461"
      ]
     },
     "execution_count": 106,
     "metadata": {},
     "output_type": "execute_result"
    }
   ],
   "source": [
    "model.fittedvalues[-100] - median[-100]"
   ]
  },
  {
   "cell_type": "code",
   "execution_count": 107,
   "metadata": {},
   "outputs": [
    {
     "data": {
      "text/plain": [
       "0.06618460537010828"
      ]
     },
     "execution_count": 107,
     "metadata": {},
     "output_type": "execute_result"
    }
   ],
   "source": [
    "roll_var2[-100]"
   ]
  },
  {
   "cell_type": "code",
   "execution_count": 102,
   "metadata": {},
   "outputs": [],
   "source": [
    "roll_var2 = stock_losses.rolling(window = roll_window,min_periods= min_periods).apply(lambda x: np.quantile(x,0.99))\n",
    "median = stock_losses.rolling(window = roll_window,min_periods= min_periods).apply(lambda x: np.quantile(x,0.5))"
   ]
  },
  {
   "cell_type": "code",
   "execution_count": 108,
   "metadata": {},
   "outputs": [
    {
     "data": {
      "text/plain": [
       "<matplotlib.axes._subplots.AxesSubplot at 0x25c3f699408>"
      ]
     },
     "execution_count": 108,
     "metadata": {},
     "output_type": "execute_result"
    },
    {
     "data": {
      "image/png": "[encoded data removed]",
      "text/plain": [
       "<Figure size 432x288 with 1 Axes>"
      ]
     },
     "metadata": {
      "needs_background": "light"
     },
     "output_type": "display_data"
    }
   ],
   "source": [
    "roll_var2.plot()"
   ]
  },
  {
   "cell_type": "code",
   "execution_count": null,
   "metadata": {},
   "outputs": [],
   "source": []
  }
 ],
 "metadata": {
  "kernelspec": {
   "display_name": "Python 3",
   "language": "python",
   "name": "python3"
  },
  "language_info": {
   "codemirror_mode": {
    "name": "ipython",
    "version": 3
   },
   "file_extension": ".py",
   "mimetype": "text/x-python",
   "name": "python",
   "nbconvert_exporter": "python",
   "pygments_lexer": "ipython3",
   "version": "3.7.7"
  },
  "toc": {
   "base_numbering": 1,
   "nav_menu": {},
   "number_sections": true,
   "sideBar": true,
   "skip_h1_title": false,
   "title_cell": "Table of Contents",
   "title_sidebar": "Contents",
   "toc_cell": true,
   "toc_position": {},
   "toc_section_display": true,
   "toc_window_display": false
  }
 },
 "nbformat": 4,
 "nbformat_minor": 4
}
